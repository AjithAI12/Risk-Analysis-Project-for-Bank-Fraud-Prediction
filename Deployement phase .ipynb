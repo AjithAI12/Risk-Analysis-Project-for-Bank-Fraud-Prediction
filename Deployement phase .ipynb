{
 "cells": [
  {
   "cell_type": "code",
   "execution_count": 1,
   "id": "2674dfd0",
   "metadata": {},
   "outputs": [],
   "source": [
    "import pickle"
   ]
  },
  {
   "cell_type": "code",
   "execution_count": 5,
   "id": "3cb3461f",
   "metadata": {},
   "outputs": [],
   "source": [
    "#load the model and rb is used for just read \n",
    "loaded_model=pickle.load(open(\"finalized_model_NavieBias.sav\",'rb'))\n",
    "#we check it and for prediction we can do it\n",
    "result=loaded_model.predict([[15000,38,1,0,1,1,0]])"
   ]
  },
  {
   "cell_type": "code",
   "execution_count": 6,
   "id": "e48cad70",
   "metadata": {},
   "outputs": [
    {
     "data": {
      "text/plain": [
       "array([1], dtype=int64)"
      ]
     },
     "execution_count": 6,
     "metadata": {},
     "output_type": "execute_result"
    }
   ],
   "source": [
    "result"
   ]
  },
  {
   "cell_type": "code",
   "execution_count": null,
   "id": "0d61f52a",
   "metadata": {},
   "outputs": [],
   "source": []
  }
 ],
 "metadata": {
  "kernelspec": {
   "display_name": "Python 3",
   "language": "python",
   "name": "python3"
  },
  "language_info": {
   "codemirror_mode": {
    "name": "ipython",
    "version": 3
   },
   "file_extension": ".py",
   "mimetype": "text/x-python",
   "name": "python",
   "nbconvert_exporter": "python",
   "pygments_lexer": "ipython3",
   "version": "3.7.6"
  }
 },
 "nbformat": 4,
 "nbformat_minor": 5
}
